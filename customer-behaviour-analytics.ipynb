{
 "cells": [
  {
   "cell_type": "code",
   "execution_count": 1,
   "id": "8c246b7e",
   "metadata": {
    "_cell_guid": "b1076dfc-b9ad-4769-8c92-a6c4dae69d19",
    "_uuid": "8f2839f25d086af736a60e9eeb907d3b93b6e0e5",
    "execution": {
     "iopub.execute_input": "2023-12-10T14:57:11.882259Z",
     "iopub.status.busy": "2023-12-10T14:57:11.881285Z",
     "iopub.status.idle": "2023-12-10T14:57:14.918561Z",
     "shell.execute_reply": "2023-12-10T14:57:14.917295Z"
    },
    "papermill": {
     "duration": 3.055103,
     "end_time": "2023-12-10T14:57:14.921553",
     "exception": false,
     "start_time": "2023-12-10T14:57:11.866450",
     "status": "completed"
    },
    "tags": []
   },
   "outputs": [
    {
     "name": "stdout",
     "output_type": "stream",
     "text": [
      "/kaggle/input/unlock-profits-with-e-commerce-sales-data/Amazon Sale Report.csv\n",
      "/kaggle/input/unlock-profits-with-e-commerce-sales-data/Cloud Warehouse Compersion Chart.csv\n",
      "/kaggle/input/unlock-profits-with-e-commerce-sales-data/May-2022.csv\n",
      "/kaggle/input/unlock-profits-with-e-commerce-sales-data/P  L March 2021.csv\n",
      "/kaggle/input/unlock-profits-with-e-commerce-sales-data/International sale Report.csv\n",
      "/kaggle/input/unlock-profits-with-e-commerce-sales-data/Expense IIGF.csv\n",
      "/kaggle/input/unlock-profits-with-e-commerce-sales-data/Sale Report.csv\n"
     ]
    }
   ],
   "source": [
    "# This Python 3 environment comes with many helpful analytics libraries installed\n",
    "# It is defined by the kaggle/python Docker image: https://github.com/kaggle/docker-python\n",
    "# For example, here's several helpful packages to load\n",
    "\n",
    "import numpy as np \n",
    "import pandas as pd \n",
    "import matplotlib.pyplot as plt\n",
    "import seaborn as sns\n",
    "plt.rc('figure',figsize=(15,8))\n",
    "\n",
    "# Input data files are available in the read-only \"../input/\" directory\n",
    "# For example, running this (by clicking run or pressing Shift+Enter) will list all files under the input directory\n",
    "\n",
    "import os\n",
    "for dirname, _, filenames in os.walk('/kaggle/input'):\n",
    "    for filename in filenames:\n",
    "        print(os.path.join(dirname, filename))\n",
    "\n",
    "# You can write up to 20GB to the current directory (/kaggle/working/) that gets preserved as output when you create a version using \"Save & Run All\" \n",
    "# You can also write temporary files to /kaggle/temp/, but they won't be saved outside of the current session"
   ]
  },
  {
   "cell_type": "code",
   "execution_count": 2,
   "id": "c4ae7774",
   "metadata": {
    "execution": {
     "iopub.execute_input": "2023-12-10T14:57:14.948714Z",
     "iopub.status.busy": "2023-12-10T14:57:14.947562Z",
     "iopub.status.idle": "2023-12-10T14:57:15.096618Z",
     "shell.execute_reply": "2023-12-10T14:57:15.094987Z"
    },
    "papermill": {
     "duration": 0.16624,
     "end_time": "2023-12-10T14:57:15.100108",
     "exception": false,
     "start_time": "2023-12-10T14:57:14.933868",
     "status": "completed"
    },
    "tags": []
   },
   "outputs": [],
   "source": [
    "df = pd.read_csv('/kaggle/input/unlock-profits-with-e-commerce-sales-data/International sale Report.csv')"
   ]
  },
  {
   "cell_type": "markdown",
   "id": "35673efa",
   "metadata": {
    "papermill": {
     "duration": 0.011337,
     "end_time": "2023-12-10T14:57:15.123372",
     "exception": false,
     "start_time": "2023-12-10T14:57:15.112035",
     "status": "completed"
    },
    "tags": []
   },
   "source": [
    "# 1. Data Processiong"
   ]
  },
  {
   "cell_type": "code",
   "execution_count": 3,
   "id": "3a29ca84",
   "metadata": {
    "execution": {
     "iopub.execute_input": "2023-12-10T14:57:15.149343Z",
     "iopub.status.busy": "2023-12-10T14:57:15.148578Z",
     "iopub.status.idle": "2023-12-10T14:57:15.224703Z",
     "shell.execute_reply": "2023-12-10T14:57:15.222430Z"
    },
    "papermill": {
     "duration": 0.092781,
     "end_time": "2023-12-10T14:57:15.227818",
     "exception": false,
     "start_time": "2023-12-10T14:57:15.135037",
     "status": "completed"
    },
    "tags": []
   },
   "outputs": [
    {
     "name": "stdout",
     "output_type": "stream",
     "text": [
      "<class 'pandas.core.frame.DataFrame'>\n",
      "RangeIndex: 37432 entries, 0 to 37431\n",
      "Data columns (total 10 columns):\n",
      " #   Column     Non-Null Count  Dtype \n",
      "---  ------     --------------  ----- \n",
      " 0   index      37432 non-null  int64 \n",
      " 1   DATE       37431 non-null  object\n",
      " 2   Months     37407 non-null  object\n",
      " 3   CUSTOMER   36392 non-null  object\n",
      " 4   Style      36392 non-null  object\n",
      " 5   SKU        34958 non-null  object\n",
      " 6   Size       36392 non-null  object\n",
      " 7   PCS        36392 non-null  object\n",
      " 8   RATE       36392 non-null  object\n",
      " 9   GROSS AMT  36392 non-null  object\n",
      "dtypes: int64(1), object(9)\n",
      "memory usage: 2.9+ MB\n"
     ]
    }
   ],
   "source": [
    "df.info()"
   ]
  },
  {
   "cell_type": "code",
   "execution_count": 4,
   "id": "0dda707b",
   "metadata": {
    "execution": {
     "iopub.execute_input": "2023-12-10T14:57:15.254177Z",
     "iopub.status.busy": "2023-12-10T14:57:15.253692Z",
     "iopub.status.idle": "2023-12-10T14:57:15.280676Z",
     "shell.execute_reply": "2023-12-10T14:57:15.279756Z"
    },
    "papermill": {
     "duration": 0.043175,
     "end_time": "2023-12-10T14:57:15.283140",
     "exception": false,
     "start_time": "2023-12-10T14:57:15.239965",
     "status": "completed"
    },
    "tags": []
   },
   "outputs": [
    {
     "data": {
      "text/html": [
       "<div>\n",
       "<style scoped>\n",
       "    .dataframe tbody tr th:only-of-type {\n",
       "        vertical-align: middle;\n",
       "    }\n",
       "\n",
       "    .dataframe tbody tr th {\n",
       "        vertical-align: top;\n",
       "    }\n",
       "\n",
       "    .dataframe thead th {\n",
       "        text-align: right;\n",
       "    }\n",
       "</style>\n",
       "<table border=\"1\" class=\"dataframe\">\n",
       "  <thead>\n",
       "    <tr style=\"text-align: right;\">\n",
       "      <th></th>\n",
       "      <th>index</th>\n",
       "      <th>DATE</th>\n",
       "      <th>Months</th>\n",
       "      <th>CUSTOMER</th>\n",
       "      <th>Style</th>\n",
       "      <th>SKU</th>\n",
       "      <th>Size</th>\n",
       "      <th>PCS</th>\n",
       "      <th>RATE</th>\n",
       "      <th>GROSS AMT</th>\n",
       "    </tr>\n",
       "  </thead>\n",
       "  <tbody>\n",
       "    <tr>\n",
       "      <th>0</th>\n",
       "      <td>0</td>\n",
       "      <td>06-05-21</td>\n",
       "      <td>Jun-21</td>\n",
       "      <td>REVATHY LOGANATHAN</td>\n",
       "      <td>MEN5004</td>\n",
       "      <td>MEN5004-KR-L</td>\n",
       "      <td>L</td>\n",
       "      <td>1.00</td>\n",
       "      <td>616.56</td>\n",
       "      <td>617.00</td>\n",
       "    </tr>\n",
       "    <tr>\n",
       "      <th>1</th>\n",
       "      <td>1</td>\n",
       "      <td>06-05-21</td>\n",
       "      <td>Jun-21</td>\n",
       "      <td>REVATHY LOGANATHAN</td>\n",
       "      <td>MEN5004</td>\n",
       "      <td>MEN5004-KR-XL</td>\n",
       "      <td>XL</td>\n",
       "      <td>1.00</td>\n",
       "      <td>616.56</td>\n",
       "      <td>617.00</td>\n",
       "    </tr>\n",
       "    <tr>\n",
       "      <th>2</th>\n",
       "      <td>2</td>\n",
       "      <td>06-05-21</td>\n",
       "      <td>Jun-21</td>\n",
       "      <td>REVATHY LOGANATHAN</td>\n",
       "      <td>MEN5004</td>\n",
       "      <td>MEN5004-KR-XXL</td>\n",
       "      <td>XXL</td>\n",
       "      <td>1.00</td>\n",
       "      <td>616.56</td>\n",
       "      <td>617.00</td>\n",
       "    </tr>\n",
       "    <tr>\n",
       "      <th>3</th>\n",
       "      <td>3</td>\n",
       "      <td>06-05-21</td>\n",
       "      <td>Jun-21</td>\n",
       "      <td>REVATHY LOGANATHAN</td>\n",
       "      <td>MEN5009</td>\n",
       "      <td>MEN5009-KR-L</td>\n",
       "      <td>L</td>\n",
       "      <td>1.00</td>\n",
       "      <td>616.56</td>\n",
       "      <td>617.00</td>\n",
       "    </tr>\n",
       "    <tr>\n",
       "      <th>4</th>\n",
       "      <td>4</td>\n",
       "      <td>06-05-21</td>\n",
       "      <td>Jun-21</td>\n",
       "      <td>REVATHY LOGANATHAN</td>\n",
       "      <td>MEN5011</td>\n",
       "      <td>MEN5011-KR-L</td>\n",
       "      <td>L</td>\n",
       "      <td>1.00</td>\n",
       "      <td>616.56</td>\n",
       "      <td>617.00</td>\n",
       "    </tr>\n",
       "  </tbody>\n",
       "</table>\n",
       "</div>"
      ],
      "text/plain": [
       "   index      DATE  Months            CUSTOMER    Style             SKU Size  \\\n",
       "0      0  06-05-21  Jun-21  REVATHY LOGANATHAN  MEN5004    MEN5004-KR-L    L   \n",
       "1      1  06-05-21  Jun-21  REVATHY LOGANATHAN  MEN5004   MEN5004-KR-XL   XL   \n",
       "2      2  06-05-21  Jun-21  REVATHY LOGANATHAN  MEN5004  MEN5004-KR-XXL  XXL   \n",
       "3      3  06-05-21  Jun-21  REVATHY LOGANATHAN  MEN5009    MEN5009-KR-L    L   \n",
       "4      4  06-05-21  Jun-21  REVATHY LOGANATHAN  MEN5011    MEN5011-KR-L    L   \n",
       "\n",
       "    PCS    RATE GROSS AMT  \n",
       "0  1.00  616.56    617.00  \n",
       "1  1.00  616.56    617.00  \n",
       "2  1.00  616.56    617.00  \n",
       "3  1.00  616.56    617.00  \n",
       "4  1.00  616.56    617.00  "
      ]
     },
     "execution_count": 4,
     "metadata": {},
     "output_type": "execute_result"
    }
   ],
   "source": [
    "df.head()"
   ]
  },
  {
   "cell_type": "code",
   "execution_count": 5,
   "id": "e754ec91",
   "metadata": {
    "execution": {
     "iopub.execute_input": "2023-12-10T14:57:15.311881Z",
     "iopub.status.busy": "2023-12-10T14:57:15.310587Z",
     "iopub.status.idle": "2023-12-10T14:57:15.397178Z",
     "shell.execute_reply": "2023-12-10T14:57:15.396203Z"
    },
    "papermill": {
     "duration": 0.10327,
     "end_time": "2023-12-10T14:57:15.399541",
     "exception": false,
     "start_time": "2023-12-10T14:57:15.296271",
     "status": "completed"
    },
    "tags": []
   },
   "outputs": [
    {
     "data": {
      "text/plain": [
       "0"
      ]
     },
     "execution_count": 5,
     "metadata": {},
     "output_type": "execute_result"
    }
   ],
   "source": [
    "df.duplicated().sum()"
   ]
  },
  {
   "cell_type": "code",
   "execution_count": 6,
   "id": "aa61cb3a",
   "metadata": {
    "execution": {
     "iopub.execute_input": "2023-12-10T14:57:15.427621Z",
     "iopub.status.busy": "2023-12-10T14:57:15.426285Z",
     "iopub.status.idle": "2023-12-10T14:57:15.471247Z",
     "shell.execute_reply": "2023-12-10T14:57:15.470140Z"
    },
    "papermill": {
     "duration": 0.062402,
     "end_time": "2023-12-10T14:57:15.474415",
     "exception": false,
     "start_time": "2023-12-10T14:57:15.412013",
     "status": "completed"
    },
    "tags": []
   },
   "outputs": [
    {
     "data": {
      "text/plain": [
       "index           0\n",
       "DATE            1\n",
       "Months         25\n",
       "CUSTOMER     1040\n",
       "Style        1040\n",
       "SKU          2474\n",
       "Size         1040\n",
       "PCS          1040\n",
       "RATE         1040\n",
       "GROSS AMT    1040\n",
       "dtype: int64"
      ]
     },
     "execution_count": 6,
     "metadata": {},
     "output_type": "execute_result"
    }
   ],
   "source": [
    "df.isnull().sum()"
   ]
  },
  {
   "cell_type": "code",
   "execution_count": 7,
   "id": "2c7cc168",
   "metadata": {
    "execution": {
     "iopub.execute_input": "2023-12-10T14:57:15.501654Z",
     "iopub.status.busy": "2023-12-10T14:57:15.501166Z",
     "iopub.status.idle": "2023-12-10T14:57:15.587736Z",
     "shell.execute_reply": "2023-12-10T14:57:15.586429Z"
    },
    "papermill": {
     "duration": 0.103478,
     "end_time": "2023-12-10T14:57:15.590461",
     "exception": false,
     "start_time": "2023-12-10T14:57:15.486983",
     "status": "completed"
    },
    "tags": []
   },
   "outputs": [
    {
     "data": {
      "text/plain": [
       "index        0\n",
       "DATE         0\n",
       "Months       0\n",
       "CUSTOMER     0\n",
       "Style        0\n",
       "SKU          0\n",
       "Size         0\n",
       "PCS          0\n",
       "RATE         0\n",
       "GROSS AMT    0\n",
       "dtype: int64"
      ]
     },
     "execution_count": 7,
     "metadata": {},
     "output_type": "execute_result"
    }
   ],
   "source": [
    "df = df.dropna()\n",
    "df.isnull().sum()"
   ]
  },
  {
   "cell_type": "code",
   "execution_count": 8,
   "id": "a55dcb27",
   "metadata": {
    "execution": {
     "iopub.execute_input": "2023-12-10T14:57:15.618917Z",
     "iopub.status.busy": "2023-12-10T14:57:15.617682Z",
     "iopub.status.idle": "2023-12-10T14:57:15.711763Z",
     "shell.execute_reply": "2023-12-10T14:57:15.708928Z"
    },
    "papermill": {
     "duration": 0.111519,
     "end_time": "2023-12-10T14:57:15.714620",
     "exception": false,
     "start_time": "2023-12-10T14:57:15.603101",
     "status": "completed"
    },
    "tags": []
   },
   "outputs": [
    {
     "name": "stderr",
     "output_type": "stream",
     "text": [
      "/tmp/ipykernel_20/1027962235.py:4: UserWarning: Could not infer format, so each element will be parsed individually, falling back to `dateutil`. To ensure parsing is consistent and as-expected, please specify a format.\n",
      "  df['DATE'] = pd.to_datetime(df['DATE'], errors='coerce')\n"
     ]
    }
   ],
   "source": [
    "date_format = '%Y-%m-%d'\n",
    "\n",
    "# Convert the 'DATE' column to datetime with the specified format\n",
    "df['DATE'] = pd.to_datetime(df['DATE'], errors='coerce')\n",
    "\n",
    "df['GROSS AMT'] = pd.to_numeric(df['GROSS AMT'], errors='coerce')\n",
    "df['PCS'] = pd.to_numeric(df['PCS'], errors='coerce')\n"
   ]
  },
  {
   "cell_type": "code",
   "execution_count": 9,
   "id": "82d0ce8d",
   "metadata": {
    "execution": {
     "iopub.execute_input": "2023-12-10T14:57:15.742653Z",
     "iopub.status.busy": "2023-12-10T14:57:15.742109Z",
     "iopub.status.idle": "2023-12-10T14:57:15.755172Z",
     "shell.execute_reply": "2023-12-10T14:57:15.753820Z"
    },
    "papermill": {
     "duration": 0.030557,
     "end_time": "2023-12-10T14:57:15.758183",
     "exception": false,
     "start_time": "2023-12-10T14:57:15.727626",
     "status": "completed"
    },
    "tags": []
   },
   "outputs": [],
   "source": [
    "df['Months'] = df.DATE.values.astype('datetime64[M]')  \n",
    "df['Day'] = df.DATE.values.astype('datetime64[D]')"
   ]
  },
  {
   "cell_type": "code",
   "execution_count": 10,
   "id": "d1650556",
   "metadata": {
    "execution": {
     "iopub.execute_input": "2023-12-10T14:57:15.786858Z",
     "iopub.status.busy": "2023-12-10T14:57:15.786158Z",
     "iopub.status.idle": "2023-12-10T14:57:15.808663Z",
     "shell.execute_reply": "2023-12-10T14:57:15.807394Z"
    },
    "papermill": {
     "duration": 0.040037,
     "end_time": "2023-12-10T14:57:15.811339",
     "exception": false,
     "start_time": "2023-12-10T14:57:15.771302",
     "status": "completed"
    },
    "tags": []
   },
   "outputs": [
    {
     "data": {
      "text/html": [
       "<div>\n",
       "<style scoped>\n",
       "    .dataframe tbody tr th:only-of-type {\n",
       "        vertical-align: middle;\n",
       "    }\n",
       "\n",
       "    .dataframe tbody tr th {\n",
       "        vertical-align: top;\n",
       "    }\n",
       "\n",
       "    .dataframe thead th {\n",
       "        text-align: right;\n",
       "    }\n",
       "</style>\n",
       "<table border=\"1\" class=\"dataframe\">\n",
       "  <thead>\n",
       "    <tr style=\"text-align: right;\">\n",
       "      <th></th>\n",
       "      <th>index</th>\n",
       "      <th>DATE</th>\n",
       "      <th>Months</th>\n",
       "      <th>CUSTOMER</th>\n",
       "      <th>Style</th>\n",
       "      <th>SKU</th>\n",
       "      <th>Size</th>\n",
       "      <th>PCS</th>\n",
       "      <th>RATE</th>\n",
       "      <th>GROSS AMT</th>\n",
       "      <th>Day</th>\n",
       "    </tr>\n",
       "  </thead>\n",
       "  <tbody>\n",
       "    <tr>\n",
       "      <th>0</th>\n",
       "      <td>0</td>\n",
       "      <td>2021-06-05</td>\n",
       "      <td>2021-06-01</td>\n",
       "      <td>REVATHY LOGANATHAN</td>\n",
       "      <td>MEN5004</td>\n",
       "      <td>MEN5004-KR-L</td>\n",
       "      <td>L</td>\n",
       "      <td>1.0</td>\n",
       "      <td>616.56</td>\n",
       "      <td>617.0</td>\n",
       "      <td>2021-06-05</td>\n",
       "    </tr>\n",
       "    <tr>\n",
       "      <th>1</th>\n",
       "      <td>1</td>\n",
       "      <td>2021-06-05</td>\n",
       "      <td>2021-06-01</td>\n",
       "      <td>REVATHY LOGANATHAN</td>\n",
       "      <td>MEN5004</td>\n",
       "      <td>MEN5004-KR-XL</td>\n",
       "      <td>XL</td>\n",
       "      <td>1.0</td>\n",
       "      <td>616.56</td>\n",
       "      <td>617.0</td>\n",
       "      <td>2021-06-05</td>\n",
       "    </tr>\n",
       "    <tr>\n",
       "      <th>2</th>\n",
       "      <td>2</td>\n",
       "      <td>2021-06-05</td>\n",
       "      <td>2021-06-01</td>\n",
       "      <td>REVATHY LOGANATHAN</td>\n",
       "      <td>MEN5004</td>\n",
       "      <td>MEN5004-KR-XXL</td>\n",
       "      <td>XXL</td>\n",
       "      <td>1.0</td>\n",
       "      <td>616.56</td>\n",
       "      <td>617.0</td>\n",
       "      <td>2021-06-05</td>\n",
       "    </tr>\n",
       "    <tr>\n",
       "      <th>3</th>\n",
       "      <td>3</td>\n",
       "      <td>2021-06-05</td>\n",
       "      <td>2021-06-01</td>\n",
       "      <td>REVATHY LOGANATHAN</td>\n",
       "      <td>MEN5009</td>\n",
       "      <td>MEN5009-KR-L</td>\n",
       "      <td>L</td>\n",
       "      <td>1.0</td>\n",
       "      <td>616.56</td>\n",
       "      <td>617.0</td>\n",
       "      <td>2021-06-05</td>\n",
       "    </tr>\n",
       "    <tr>\n",
       "      <th>4</th>\n",
       "      <td>4</td>\n",
       "      <td>2021-06-05</td>\n",
       "      <td>2021-06-01</td>\n",
       "      <td>REVATHY LOGANATHAN</td>\n",
       "      <td>MEN5011</td>\n",
       "      <td>MEN5011-KR-L</td>\n",
       "      <td>L</td>\n",
       "      <td>1.0</td>\n",
       "      <td>616.56</td>\n",
       "      <td>617.0</td>\n",
       "      <td>2021-06-05</td>\n",
       "    </tr>\n",
       "  </tbody>\n",
       "</table>\n",
       "</div>"
      ],
      "text/plain": [
       "   index       DATE     Months            CUSTOMER    Style             SKU  \\\n",
       "0      0 2021-06-05 2021-06-01  REVATHY LOGANATHAN  MEN5004    MEN5004-KR-L   \n",
       "1      1 2021-06-05 2021-06-01  REVATHY LOGANATHAN  MEN5004   MEN5004-KR-XL   \n",
       "2      2 2021-06-05 2021-06-01  REVATHY LOGANATHAN  MEN5004  MEN5004-KR-XXL   \n",
       "3      3 2021-06-05 2021-06-01  REVATHY LOGANATHAN  MEN5009    MEN5009-KR-L   \n",
       "4      4 2021-06-05 2021-06-01  REVATHY LOGANATHAN  MEN5011    MEN5011-KR-L   \n",
       "\n",
       "  Size  PCS    RATE  GROSS AMT        Day  \n",
       "0    L  1.0  616.56      617.0 2021-06-05  \n",
       "1   XL  1.0  616.56      617.0 2021-06-05  \n",
       "2  XXL  1.0  616.56      617.0 2021-06-05  \n",
       "3    L  1.0  616.56      617.0 2021-06-05  \n",
       "4    L  1.0  616.56      617.0 2021-06-05  "
      ]
     },
     "execution_count": 10,
     "metadata": {},
     "output_type": "execute_result"
    }
   ],
   "source": [
    "df.head()"
   ]
  },
  {
   "cell_type": "markdown",
   "id": "8363699c",
   "metadata": {
    "papermill": {
     "duration": 0.012877,
     "end_time": "2023-12-10T14:57:15.837691",
     "exception": false,
     "start_time": "2023-12-10T14:57:15.824814",
     "status": "completed"
    },
    "tags": []
   },
   "source": [
    "# 2. Overall Customer Consumption Analysis"
   ]
  },
  {
   "cell_type": "code",
   "execution_count": 11,
   "id": "226f0b03",
   "metadata": {
    "execution": {
     "iopub.execute_input": "2023-12-10T14:57:15.866645Z",
     "iopub.status.busy": "2023-12-10T14:57:15.866120Z",
     "iopub.status.idle": "2023-12-10T14:57:15.897467Z",
     "shell.execute_reply": "2023-12-10T14:57:15.896147Z"
    },
    "papermill": {
     "duration": 0.049247,
     "end_time": "2023-12-10T14:57:15.900268",
     "exception": false,
     "start_time": "2023-12-10T14:57:15.851021",
     "status": "completed"
    },
    "tags": []
   },
   "outputs": [
    {
     "data": {
      "text/html": [
       "<div>\n",
       "<style scoped>\n",
       "    .dataframe tbody tr th:only-of-type {\n",
       "        vertical-align: middle;\n",
       "    }\n",
       "\n",
       "    .dataframe tbody tr th {\n",
       "        vertical-align: top;\n",
       "    }\n",
       "\n",
       "    .dataframe thead th {\n",
       "        text-align: right;\n",
       "    }\n",
       "</style>\n",
       "<table border=\"1\" class=\"dataframe\">\n",
       "  <thead>\n",
       "    <tr style=\"text-align: right;\">\n",
       "      <th></th>\n",
       "      <th>PCS</th>\n",
       "      <th>GROSS AMT</th>\n",
       "    </tr>\n",
       "  </thead>\n",
       "  <tbody>\n",
       "    <tr>\n",
       "      <th>count</th>\n",
       "      <td>34957.000000</td>\n",
       "      <td>34957.000000</td>\n",
       "    </tr>\n",
       "    <tr>\n",
       "      <th>mean</th>\n",
       "      <td>418.440291</td>\n",
       "      <td>428.443717</td>\n",
       "    </tr>\n",
       "    <tr>\n",
       "      <th>std</th>\n",
       "      <td>972.254741</td>\n",
       "      <td>580.132649</td>\n",
       "    </tr>\n",
       "    <tr>\n",
       "      <th>min</th>\n",
       "      <td>1.000000</td>\n",
       "      <td>0.000000</td>\n",
       "    </tr>\n",
       "    <tr>\n",
       "      <th>25%</th>\n",
       "      <td>1.000000</td>\n",
       "      <td>10.000000</td>\n",
       "    </tr>\n",
       "    <tr>\n",
       "      <th>50%</th>\n",
       "      <td>305.560000</td>\n",
       "      <td>251.000000</td>\n",
       "    </tr>\n",
       "    <tr>\n",
       "      <th>75%</th>\n",
       "      <td>611.250000</td>\n",
       "      <td>650.000000</td>\n",
       "    </tr>\n",
       "    <tr>\n",
       "      <th>max</th>\n",
       "      <td>57400.000000</td>\n",
       "      <td>9735.000000</td>\n",
       "    </tr>\n",
       "  </tbody>\n",
       "</table>\n",
       "</div>"
      ],
      "text/plain": [
       "                PCS     GROSS AMT\n",
       "count  34957.000000  34957.000000\n",
       "mean     418.440291    428.443717\n",
       "std      972.254741    580.132649\n",
       "min        1.000000      0.000000\n",
       "25%        1.000000     10.000000\n",
       "50%      305.560000    251.000000\n",
       "75%      611.250000    650.000000\n",
       "max    57400.000000   9735.000000"
      ]
     },
     "execution_count": 11,
     "metadata": {},
     "output_type": "execute_result"
    }
   ],
   "source": [
    "df[['PCS','GROSS AMT']].describe()\n"
   ]
  },
  {
   "cell_type": "markdown",
   "id": "eb00b7cc",
   "metadata": {
    "papermill": {
     "duration": 0.013749,
     "end_time": "2023-12-10T14:57:15.927869",
     "exception": false,
     "start_time": "2023-12-10T14:57:15.914120",
     "status": "completed"
    },
    "tags": []
   },
   "source": [
    "The average number of pieces sold is approximately 418.44. The standard deviation is high (972.25), indicating a significant variation in the number of pieces sold.\n",
    "The average gross amount is approximately 428.44. The standard deviation is 580.13, indicating variability in the total amount of sales."
   ]
  },
  {
   "cell_type": "code",
   "execution_count": 12,
   "id": "62fa9bc0",
   "metadata": {
    "execution": {
     "iopub.execute_input": "2023-12-10T14:57:15.957475Z",
     "iopub.status.busy": "2023-12-10T14:57:15.956946Z",
     "iopub.status.idle": "2023-12-10T14:57:15.986431Z",
     "shell.execute_reply": "2023-12-10T14:57:15.985015Z"
    },
    "papermill": {
     "duration": 0.047761,
     "end_time": "2023-12-10T14:57:15.989663",
     "exception": false,
     "start_time": "2023-12-10T14:57:15.941902",
     "status": "completed"
    },
    "tags": []
   },
   "outputs": [
    {
     "data": {
      "text/html": [
       "<div>\n",
       "<style scoped>\n",
       "    .dataframe tbody tr th:only-of-type {\n",
       "        vertical-align: middle;\n",
       "    }\n",
       "\n",
       "    .dataframe tbody tr th {\n",
       "        vertical-align: top;\n",
       "    }\n",
       "\n",
       "    .dataframe thead th {\n",
       "        text-align: right;\n",
       "    }\n",
       "</style>\n",
       "<table border=\"1\" class=\"dataframe\">\n",
       "  <thead>\n",
       "    <tr style=\"text-align: right;\">\n",
       "      <th></th>\n",
       "      <th>PCS</th>\n",
       "      <th>GROSS AMT</th>\n",
       "    </tr>\n",
       "  </thead>\n",
       "  <tbody>\n",
       "    <tr>\n",
       "      <th>count</th>\n",
       "      <td>136.000</td>\n",
       "      <td>136.000</td>\n",
       "    </tr>\n",
       "    <tr>\n",
       "      <th>mean</th>\n",
       "      <td>107554.539</td>\n",
       "      <td>110125.787</td>\n",
       "    </tr>\n",
       "    <tr>\n",
       "      <th>std</th>\n",
       "      <td>425256.887</td>\n",
       "      <td>187571.949</td>\n",
       "    </tr>\n",
       "    <tr>\n",
       "      <th>min</th>\n",
       "      <td>0.000</td>\n",
       "      <td>0.000</td>\n",
       "    </tr>\n",
       "    <tr>\n",
       "      <th>25%</th>\n",
       "      <td>39.750</td>\n",
       "      <td>25086.250</td>\n",
       "    </tr>\n",
       "    <tr>\n",
       "      <th>50%</th>\n",
       "      <td>75.000</td>\n",
       "      <td>50751.000</td>\n",
       "    </tr>\n",
       "    <tr>\n",
       "      <th>75%</th>\n",
       "      <td>314.000</td>\n",
       "      <td>121393.000</td>\n",
       "    </tr>\n",
       "    <tr>\n",
       "      <th>max</th>\n",
       "      <td>2651569.100</td>\n",
       "      <td>1713617.000</td>\n",
       "    </tr>\n",
       "  </tbody>\n",
       "</table>\n",
       "</div>"
      ],
      "text/plain": [
       "              PCS   GROSS AMT\n",
       "count     136.000     136.000\n",
       "mean   107554.539  110125.787\n",
       "std    425256.887  187571.949\n",
       "min         0.000       0.000\n",
       "25%        39.750   25086.250\n",
       "50%        75.000   50751.000\n",
       "75%       314.000  121393.000\n",
       "max   2651569.100 1713617.000"
      ]
     },
     "execution_count": 12,
     "metadata": {},
     "output_type": "execute_result"
    }
   ],
   "source": [
    "pd.set_option('display.float_format', lambda x: '%.3f' % x)\n",
    "df.groupby('CUSTOMER')[['PCS','GROSS AMT']].sum().describe()\n"
   ]
  },
  {
   "cell_type": "code",
   "execution_count": 13,
   "id": "e3cbec36",
   "metadata": {
    "execution": {
     "iopub.execute_input": "2023-12-10T14:57:16.020116Z",
     "iopub.status.busy": "2023-12-10T14:57:16.019021Z",
     "iopub.status.idle": "2023-12-10T14:57:17.557926Z",
     "shell.execute_reply": "2023-12-10T14:57:17.556791Z"
    },
    "papermill": {
     "duration": 1.561113,
     "end_time": "2023-12-10T14:57:17.564581",
     "exception": false,
     "start_time": "2023-12-10T14:57:16.003468",
     "status": "completed"
    },
    "tags": []
   },
   "outputs": [
    {
     "data": {
      "image/png": "[encoded data removed]",
      "text/plain": [
       "<Figure size 1500x800 with 4 Axes>"
      ]
     },
     "metadata": {},
     "output_type": "display_data"
    }
   ],
   "source": [
    "plt.subplot(221)\n",
    "df.groupby('Months')['GROSS AMT'].sum().plot()\n",
    "plt.xlabel('Month')\n",
    "plt.ylabel('Gross Amount')\n",
    "plt.title('Gross Amount per Month')\n",
    "\n",
    " \n",
    "plt.subplot(222)\n",
    "df.groupby('Months').PCS.sum().plot()\n",
    "plt.xlabel('Month')\n",
    "plt.ylabel('Sales Volume')\n",
    "plt.title('Piece Sold per Month')\n",
    "\n",
    " \n",
    "plt.subplot(223)\n",
    "df.groupby('Months').CUSTOMER.nunique().plot()\n",
    "plt.xlabel('Month')\n",
    "plt.ylabel('Customer')\n",
    "plt.title('Number of Customers per month')\n",
    "\n",
    " \n",
    "plt.subplot(224)\n",
    "df.groupby('Months').CUSTOMER.count().plot()\n",
    "plt.xlabel('Month')\n",
    "plt.ylabel('Purchase')\n",
    "plt.title('Number of Purchases per month')\n",
    "plt.tight_layout()"
   ]
  },
  {
   "cell_type": "markdown",
   "id": "daab5218",
   "metadata": {
    "papermill": {
     "duration": 0.015828,
     "end_time": "2023-12-10T14:57:17.598741",
     "exception": false,
     "start_time": "2023-12-10T14:57:17.582913",
     "status": "completed"
    },
    "tags": []
   },
   "source": [
    "Sales amount, piece sold, and number of purchases basically show the same trend. Sales volume increased rapidly in September 2011 and then declined rapidly after peaking (more than 4500) in October."
   ]
  },
  {
   "cell_type": "markdown",
   "id": "b362997d",
   "metadata": {
    "papermill": {
     "duration": 0.018126,
     "end_time": "2023-12-10T14:57:17.633139",
     "exception": false,
     "start_time": "2023-12-10T14:57:17.615013",
     "status": "completed"
    },
    "tags": []
   },
   "source": [
    "# 3. Customer Individual Consumption Analysis"
   ]
  },
  {
   "cell_type": "code",
   "execution_count": 14,
   "id": "226c819b",
   "metadata": {
    "execution": {
     "iopub.execute_input": "2023-12-10T14:57:17.667054Z",
     "iopub.status.busy": "2023-12-10T14:57:17.666561Z",
     "iopub.status.idle": "2023-12-10T14:57:17.687702Z",
     "shell.execute_reply": "2023-12-10T14:57:17.686359Z"
    },
    "papermill": {
     "duration": 0.041262,
     "end_time": "2023-12-10T14:57:17.690424",
     "exception": false,
     "start_time": "2023-12-10T14:57:17.649162",
     "status": "completed"
    },
    "tags": []
   },
   "outputs": [
    {
     "data": {
      "text/html": [
       "<div>\n",
       "<style scoped>\n",
       "    .dataframe tbody tr th:only-of-type {\n",
       "        vertical-align: middle;\n",
       "    }\n",
       "\n",
       "    .dataframe tbody tr th {\n",
       "        vertical-align: top;\n",
       "    }\n",
       "\n",
       "    .dataframe thead th {\n",
       "        text-align: right;\n",
       "    }\n",
       "</style>\n",
       "<table border=\"1\" class=\"dataframe\">\n",
       "  <thead>\n",
       "    <tr style=\"text-align: right;\">\n",
       "      <th></th>\n",
       "      <th>PCS</th>\n",
       "      <th>GROSS AMT</th>\n",
       "    </tr>\n",
       "    <tr>\n",
       "      <th>CUSTOMER</th>\n",
       "      <th></th>\n",
       "      <th></th>\n",
       "    </tr>\n",
       "  </thead>\n",
       "  <tbody>\n",
       "    <tr>\n",
       "      <th>AANCHOL</th>\n",
       "      <td>18.000</td>\n",
       "      <td>11452.000</td>\n",
       "    </tr>\n",
       "    <tr>\n",
       "      <th>ABBI COLLECTION</th>\n",
       "      <td>70.000</td>\n",
       "      <td>37114.000</td>\n",
       "    </tr>\n",
       "    <tr>\n",
       "      <th>ABDUL RAHMAN(SINGAPORE)</th>\n",
       "      <td>96.000</td>\n",
       "      <td>48106.000</td>\n",
       "    </tr>\n",
       "    <tr>\n",
       "      <th>ADDVEN SOLUTIONS PRIVATE LIMITED</th>\n",
       "      <td>46.000</td>\n",
       "      <td>32228.000</td>\n",
       "    </tr>\n",
       "    <tr>\n",
       "      <th>AKASH KAUSHAL</th>\n",
       "      <td>10.000</td>\n",
       "      <td>5580.000</td>\n",
       "    </tr>\n",
       "    <tr>\n",
       "      <th>...</th>\n",
       "      <td>...</td>\n",
       "      <td>...</td>\n",
       "    </tr>\n",
       "    <tr>\n",
       "      <th>VISHA DEVAN</th>\n",
       "      <td>474.000</td>\n",
       "      <td>321028.000</td>\n",
       "    </tr>\n",
       "    <tr>\n",
       "      <th>VISHAL DARSHAN BOUTIQUE</th>\n",
       "      <td>457.000</td>\n",
       "      <td>316277.000</td>\n",
       "    </tr>\n",
       "    <tr>\n",
       "      <th>YAMUNAH PUSPANATHAN</th>\n",
       "      <td>29.000</td>\n",
       "      <td>17899.000</td>\n",
       "    </tr>\n",
       "    <tr>\n",
       "      <th>YASHWINI REDDY</th>\n",
       "      <td>43.000</td>\n",
       "      <td>26950.000</td>\n",
       "    </tr>\n",
       "    <tr>\n",
       "      <th>YASSHLINY KUNJU</th>\n",
       "      <td>126.000</td>\n",
       "      <td>90972.000</td>\n",
       "    </tr>\n",
       "  </tbody>\n",
       "</table>\n",
       "<p>136 rows × 2 columns</p>\n",
       "</div>"
      ],
      "text/plain": [
       "                                     PCS  GROSS AMT\n",
       "CUSTOMER                                           \n",
       "AANCHOL                           18.000  11452.000\n",
       "ABBI COLLECTION                   70.000  37114.000\n",
       "ABDUL RAHMAN(SINGAPORE)           96.000  48106.000\n",
       "ADDVEN SOLUTIONS PRIVATE LIMITED  46.000  32228.000\n",
       "AKASH KAUSHAL                     10.000   5580.000\n",
       "...                                  ...        ...\n",
       "VISHA DEVAN                      474.000 321028.000\n",
       "VISHAL DARSHAN BOUTIQUE          457.000 316277.000\n",
       "YAMUNAH PUSPANATHAN               29.000  17899.000\n",
       "YASHWINI REDDY                    43.000  26950.000\n",
       "YASSHLINY KUNJU                  126.000  90972.000\n",
       "\n",
       "[136 rows x 2 columns]"
      ]
     },
     "execution_count": 14,
     "metadata": {},
     "output_type": "execute_result"
    }
   ],
   "source": [
    "df1 = df.groupby('CUSTOMER')[['PCS','GROSS AMT']].sum()\n",
    "df1"
   ]
  },
  {
   "cell_type": "code",
   "execution_count": 15,
   "id": "9495573a",
   "metadata": {
    "execution": {
     "iopub.execute_input": "2023-12-10T14:57:17.725756Z",
     "iopub.status.busy": "2023-12-10T14:57:17.724739Z",
     "iopub.status.idle": "2023-12-10T14:57:17.742213Z",
     "shell.execute_reply": "2023-12-10T14:57:17.740999Z"
    },
    "papermill": {
     "duration": 0.038336,
     "end_time": "2023-12-10T14:57:17.745208",
     "exception": false,
     "start_time": "2023-12-10T14:57:17.706872",
     "status": "completed"
    },
    "tags": []
   },
   "outputs": [
    {
     "data": {
      "text/html": [
       "<div>\n",
       "<style scoped>\n",
       "    .dataframe tbody tr th:only-of-type {\n",
       "        vertical-align: middle;\n",
       "    }\n",
       "\n",
       "    .dataframe tbody tr th {\n",
       "        vertical-align: top;\n",
       "    }\n",
       "\n",
       "    .dataframe thead th {\n",
       "        text-align: right;\n",
       "    }\n",
       "</style>\n",
       "<table border=\"1\" class=\"dataframe\">\n",
       "  <thead>\n",
       "    <tr style=\"text-align: right;\">\n",
       "      <th></th>\n",
       "      <th>PCS</th>\n",
       "      <th>GROSS AMT</th>\n",
       "    </tr>\n",
       "  </thead>\n",
       "  <tbody>\n",
       "    <tr>\n",
       "      <th>1</th>\n",
       "      <td>0.000</td>\n",
       "      <td>0.000</td>\n",
       "    </tr>\n",
       "    <tr>\n",
       "      <th>2</th>\n",
       "      <td>0.000</td>\n",
       "      <td>0.000</td>\n",
       "    </tr>\n",
       "    <tr>\n",
       "      <th>3</th>\n",
       "      <td>0.000</td>\n",
       "      <td>0.001</td>\n",
       "    </tr>\n",
       "    <tr>\n",
       "      <th>4</th>\n",
       "      <td>0.000</td>\n",
       "      <td>0.001</td>\n",
       "    </tr>\n",
       "    <tr>\n",
       "      <th>5</th>\n",
       "      <td>0.000</td>\n",
       "      <td>0.001</td>\n",
       "    </tr>\n",
       "    <tr>\n",
       "      <th>...</th>\n",
       "      <td>...</td>\n",
       "      <td>...</td>\n",
       "    </tr>\n",
       "    <tr>\n",
       "      <th>132</th>\n",
       "      <td>1.000</td>\n",
       "      <td>0.759</td>\n",
       "    </tr>\n",
       "    <tr>\n",
       "      <th>133</th>\n",
       "      <td>1.000</td>\n",
       "      <td>0.788</td>\n",
       "    </tr>\n",
       "    <tr>\n",
       "      <th>134</th>\n",
       "      <td>1.000</td>\n",
       "      <td>0.823</td>\n",
       "    </tr>\n",
       "    <tr>\n",
       "      <th>135</th>\n",
       "      <td>1.000</td>\n",
       "      <td>0.886</td>\n",
       "    </tr>\n",
       "    <tr>\n",
       "      <th>136</th>\n",
       "      <td>1.000</td>\n",
       "      <td>1.000</td>\n",
       "    </tr>\n",
       "  </tbody>\n",
       "</table>\n",
       "<p>136 rows × 2 columns</p>\n",
       "</div>"
      ],
      "text/plain": [
       "      PCS  GROSS AMT\n",
       "1   0.000      0.000\n",
       "2   0.000      0.000\n",
       "3   0.000      0.001\n",
       "4   0.000      0.001\n",
       "5   0.000      0.001\n",
       "..    ...        ...\n",
       "132 1.000      0.759\n",
       "133 1.000      0.788\n",
       "134 1.000      0.823\n",
       "135 1.000      0.886\n",
       "136 1.000      1.000\n",
       "\n",
       "[136 rows x 2 columns]"
      ]
     },
     "execution_count": 15,
     "metadata": {},
     "output_type": "execute_result"
    }
   ],
   "source": [
    "customer_cumsum = df1.sort_values('GROSS AMT').apply(lambda x:x.cumsum() / x.sum())\n",
    "customer_cumsum.index = range(1,len(customer_cumsum)+1)\n",
    "customer_cumsum"
   ]
  },
  {
   "cell_type": "code",
   "execution_count": 16,
   "id": "d14cf8b8",
   "metadata": {
    "execution": {
     "iopub.execute_input": "2023-12-10T14:57:17.781857Z",
     "iopub.status.busy": "2023-12-10T14:57:17.780305Z",
     "iopub.status.idle": "2023-12-10T14:57:18.184423Z",
     "shell.execute_reply": "2023-12-10T14:57:18.183056Z"
    },
    "papermill": {
     "duration": 0.425594,
     "end_time": "2023-12-10T14:57:18.187368",
     "exception": false,
     "start_time": "2023-12-10T14:57:17.761774",
     "status": "completed"
    },
    "tags": []
   },
   "outputs": [
    {
     "data": {
      "image/png": "[encoded data removed]",
      "text/plain": [
       "<Figure size 1500x800 with 1 Axes>"
      ]
     },
     "metadata": {},
     "output_type": "display_data"
    }
   ],
   "source": [
    "customer_cumsum['GROSS AMT'].plot()\n",
    "plt.title('Cumulative Proportion of Customer Consumption')\n",
    "plt.xlabel('Number of Customer')\n",
    "plt.ylabel('Proportion')\n",
    "plt.axhline(y = 0.8,ls = \"--\",c = \"r\",lw = 1) \n",
    "plt.axvline(x = (df.CUSTOMER.nunique())*0.8,ls = \"--\",c = \"b\",lw = 1) \n",
    "plt.show()\n"
   ]
  },
  {
   "cell_type": "markdown",
   "id": "49390402",
   "metadata": {
    "papermill": {
     "duration": 0.017428,
     "end_time": "2023-12-10T14:57:18.222036",
     "exception": false,
     "start_time": "2023-12-10T14:57:18.204608",
     "status": "completed"
    },
    "tags": []
   },
   "source": [
    "80% of customers contribute less than 40% of sales amount, which is in line with the 80/20 rule"
   ]
  },
  {
   "cell_type": "markdown",
   "id": "13569c2b",
   "metadata": {
    "papermill": {
     "duration": 0.016846,
     "end_time": "2023-12-10T14:57:18.256383",
     "exception": false,
     "start_time": "2023-12-10T14:57:18.239537",
     "status": "completed"
    },
    "tags": []
   },
   "source": [
    "# 4. Customer Value Analysis (RFM Model)"
   ]
  },
  {
   "cell_type": "code",
   "execution_count": 17,
   "id": "5ee4cfc8",
   "metadata": {
    "execution": {
     "iopub.execute_input": "2023-12-10T14:57:18.294628Z",
     "iopub.status.busy": "2023-12-10T14:57:18.293087Z",
     "iopub.status.idle": "2023-12-10T14:57:18.322401Z",
     "shell.execute_reply": "2023-12-10T14:57:18.321125Z"
    },
    "papermill": {
     "duration": 0.052134,
     "end_time": "2023-12-10T14:57:18.325881",
     "exception": false,
     "start_time": "2023-12-10T14:57:18.273747",
     "status": "completed"
    },
    "tags": []
   },
   "outputs": [
    {
     "data": {
      "text/html": [
       "<div>\n",
       "<style scoped>\n",
       "    .dataframe tbody tr th:only-of-type {\n",
       "        vertical-align: middle;\n",
       "    }\n",
       "\n",
       "    .dataframe tbody tr th {\n",
       "        vertical-align: top;\n",
       "    }\n",
       "\n",
       "    .dataframe thead th {\n",
       "        text-align: right;\n",
       "    }\n",
       "</style>\n",
       "<table border=\"1\" class=\"dataframe\">\n",
       "  <thead>\n",
       "    <tr style=\"text-align: right;\">\n",
       "      <th></th>\n",
       "      <th>DATE</th>\n",
       "      <th>GROSS AMT</th>\n",
       "      <th>PCS</th>\n",
       "    </tr>\n",
       "    <tr>\n",
       "      <th>CUSTOMER</th>\n",
       "      <th></th>\n",
       "      <th></th>\n",
       "      <th></th>\n",
       "    </tr>\n",
       "  </thead>\n",
       "  <tbody>\n",
       "    <tr>\n",
       "      <th>AANCHOL</th>\n",
       "      <td>2021-07-16</td>\n",
       "      <td>11452.000</td>\n",
       "      <td>4</td>\n",
       "    </tr>\n",
       "    <tr>\n",
       "      <th>ABBI COLLECTION</th>\n",
       "      <td>2022-02-05</td>\n",
       "      <td>37114.000</td>\n",
       "      <td>70</td>\n",
       "    </tr>\n",
       "    <tr>\n",
       "      <th>ABDUL RAHMAN(SINGAPORE)</th>\n",
       "      <td>2021-12-16</td>\n",
       "      <td>48106.000</td>\n",
       "      <td>96</td>\n",
       "    </tr>\n",
       "    <tr>\n",
       "      <th>ADDVEN SOLUTIONS PRIVATE LIMITED</th>\n",
       "      <td>2021-10-20</td>\n",
       "      <td>32228.000</td>\n",
       "      <td>46</td>\n",
       "    </tr>\n",
       "    <tr>\n",
       "      <th>AKASH KAUSHAL</th>\n",
       "      <td>2021-09-07</td>\n",
       "      <td>5580.000</td>\n",
       "      <td>10</td>\n",
       "    </tr>\n",
       "  </tbody>\n",
       "</table>\n",
       "</div>"
      ],
      "text/plain": [
       "                                       DATE  GROSS AMT  PCS\n",
       "CUSTOMER                                                   \n",
       "AANCHOL                          2021-07-16  11452.000    4\n",
       "ABBI COLLECTION                  2022-02-05  37114.000   70\n",
       "ABDUL RAHMAN(SINGAPORE)          2021-12-16  48106.000   96\n",
       "ADDVEN SOLUTIONS PRIVATE LIMITED 2021-10-20  32228.000   46\n",
       "AKASH KAUSHAL                    2021-09-07   5580.000   10"
      ]
     },
     "execution_count": 17,
     "metadata": {},
     "output_type": "execute_result"
    }
   ],
   "source": [
    "rfm = df.pivot_table(index='CUSTOMER',\n",
    "                     values=['DATE','PCS','GROSS AMT'],\n",
    "                     aggfunc = {'DATE':'max','PCS':'count','GROSS AMT':'sum'}                     \n",
    "                    )\n",
    "rfm.head()"
   ]
  },
  {
   "cell_type": "code",
   "execution_count": 18,
   "id": "f651e030",
   "metadata": {
    "execution": {
     "iopub.execute_input": "2023-12-10T14:57:18.463628Z",
     "iopub.status.busy": "2023-12-10T14:57:18.463062Z",
     "iopub.status.idle": "2023-12-10T14:57:18.483696Z",
     "shell.execute_reply": "2023-12-10T14:57:18.482292Z"
    },
    "papermill": {
     "duration": 0.044409,
     "end_time": "2023-12-10T14:57:18.486398",
     "exception": false,
     "start_time": "2023-12-10T14:57:18.441989",
     "status": "completed"
    },
    "tags": []
   },
   "outputs": [
    {
     "data": {
      "text/html": [
       "<div>\n",
       "<style scoped>\n",
       "    .dataframe tbody tr th:only-of-type {\n",
       "        vertical-align: middle;\n",
       "    }\n",
       "\n",
       "    .dataframe tbody tr th {\n",
       "        vertical-align: top;\n",
       "    }\n",
       "\n",
       "    .dataframe thead th {\n",
       "        text-align: right;\n",
       "    }\n",
       "</style>\n",
       "<table border=\"1\" class=\"dataframe\">\n",
       "  <thead>\n",
       "    <tr style=\"text-align: right;\">\n",
       "      <th></th>\n",
       "      <th>Monetary</th>\n",
       "      <th>Frequency</th>\n",
       "      <th>Recency</th>\n",
       "    </tr>\n",
       "    <tr>\n",
       "      <th>CUSTOMER</th>\n",
       "      <th></th>\n",
       "      <th></th>\n",
       "      <th></th>\n",
       "    </tr>\n",
       "  </thead>\n",
       "  <tbody>\n",
       "    <tr>\n",
       "      <th>AANCHOL</th>\n",
       "      <td>11452.000</td>\n",
       "      <td>4</td>\n",
       "      <td>258.000</td>\n",
       "    </tr>\n",
       "    <tr>\n",
       "      <th>ABBI COLLECTION</th>\n",
       "      <td>37114.000</td>\n",
       "      <td>70</td>\n",
       "      <td>54.000</td>\n",
       "    </tr>\n",
       "    <tr>\n",
       "      <th>ABDUL RAHMAN(SINGAPORE)</th>\n",
       "      <td>48106.000</td>\n",
       "      <td>96</td>\n",
       "      <td>105.000</td>\n",
       "    </tr>\n",
       "    <tr>\n",
       "      <th>ADDVEN SOLUTIONS PRIVATE LIMITED</th>\n",
       "      <td>32228.000</td>\n",
       "      <td>46</td>\n",
       "      <td>162.000</td>\n",
       "    </tr>\n",
       "    <tr>\n",
       "      <th>AKASH KAUSHAL</th>\n",
       "      <td>5580.000</td>\n",
       "      <td>10</td>\n",
       "      <td>205.000</td>\n",
       "    </tr>\n",
       "  </tbody>\n",
       "</table>\n",
       "</div>"
      ],
      "text/plain": [
       "                                  Monetary  Frequency  Recency\n",
       "CUSTOMER                                                      \n",
       "AANCHOL                          11452.000          4  258.000\n",
       "ABBI COLLECTION                  37114.000         70   54.000\n",
       "ABDUL RAHMAN(SINGAPORE)          48106.000         96  105.000\n",
       "ADDVEN SOLUTIONS PRIVATE LIMITED 32228.000         46  162.000\n",
       "AKASH KAUSHAL                     5580.000         10  205.000"
      ]
     },
     "execution_count": 18,
     "metadata": {},
     "output_type": "execute_result"
    }
   ],
   "source": [
    "rfm['Recency'] = (rfm.DATE.max()-rfm.DATE)/np.timedelta64(1,'D')\n",
    "rfm.rename(columns={'GROSS AMT':'Monetary','PCS':'Frequency'},inplace =True)\n",
    "del rfm['DATE']\n",
    "rfm.head()"
   ]
  },
  {
   "cell_type": "code",
   "execution_count": 19,
   "id": "d062f2ae",
   "metadata": {
    "execution": {
     "iopub.execute_input": "2023-12-10T14:57:18.525587Z",
     "iopub.status.busy": "2023-12-10T14:57:18.524177Z",
     "iopub.status.idle": "2023-12-10T14:57:18.583397Z",
     "shell.execute_reply": "2023-12-10T14:57:18.582179Z"
    },
    "papermill": {
     "duration": 0.08187,
     "end_time": "2023-12-10T14:57:18.586287",
     "exception": false,
     "start_time": "2023-12-10T14:57:18.504417",
     "status": "completed"
    },
    "tags": []
   },
   "outputs": [
    {
     "data": {
      "text/html": [
       "<div>\n",
       "<style scoped>\n",
       "    .dataframe tbody tr th:only-of-type {\n",
       "        vertical-align: middle;\n",
       "    }\n",
       "\n",
       "    .dataframe tbody tr th {\n",
       "        vertical-align: top;\n",
       "    }\n",
       "\n",
       "    .dataframe thead th {\n",
       "        text-align: right;\n",
       "    }\n",
       "</style>\n",
       "<table border=\"1\" class=\"dataframe\">\n",
       "  <thead>\n",
       "    <tr style=\"text-align: right;\">\n",
       "      <th></th>\n",
       "      <th>Monetary</th>\n",
       "      <th>Frequency</th>\n",
       "      <th>Recency</th>\n",
       "      <th>label</th>\n",
       "    </tr>\n",
       "    <tr>\n",
       "      <th>CUSTOMER</th>\n",
       "      <th></th>\n",
       "      <th></th>\n",
       "      <th></th>\n",
       "      <th></th>\n",
       "    </tr>\n",
       "  </thead>\n",
       "  <tbody>\n",
       "    <tr>\n",
       "      <th>AANCHOL</th>\n",
       "      <td>11452.000</td>\n",
       "      <td>4</td>\n",
       "      <td>258.000</td>\n",
       "      <td>G</td>\n",
       "    </tr>\n",
       "    <tr>\n",
       "      <th>ABBI COLLECTION</th>\n",
       "      <td>37114.000</td>\n",
       "      <td>70</td>\n",
       "      <td>54.000</td>\n",
       "      <td>H</td>\n",
       "    </tr>\n",
       "    <tr>\n",
       "      <th>ABDUL RAHMAN(SINGAPORE)</th>\n",
       "      <td>48106.000</td>\n",
       "      <td>96</td>\n",
       "      <td>105.000</td>\n",
       "      <td>H</td>\n",
       "    </tr>\n",
       "    <tr>\n",
       "      <th>ADDVEN SOLUTIONS PRIVATE LIMITED</th>\n",
       "      <td>32228.000</td>\n",
       "      <td>46</td>\n",
       "      <td>162.000</td>\n",
       "      <td>G</td>\n",
       "    </tr>\n",
       "    <tr>\n",
       "      <th>AKASH KAUSHAL</th>\n",
       "      <td>5580.000</td>\n",
       "      <td>10</td>\n",
       "      <td>205.000</td>\n",
       "      <td>G</td>\n",
       "    </tr>\n",
       "  </tbody>\n",
       "</table>\n",
       "</div>"
      ],
      "text/plain": [
       "                                  Monetary  Frequency  Recency label\n",
       "CUSTOMER                                                            \n",
       "AANCHOL                          11452.000          4  258.000     G\n",
       "ABBI COLLECTION                  37114.000         70   54.000     H\n",
       "ABDUL RAHMAN(SINGAPORE)          48106.000         96  105.000     H\n",
       "ADDVEN SOLUTIONS PRIVATE LIMITED 32228.000         46  162.000     G\n",
       "AKASH KAUSHAL                     5580.000         10  205.000     G"
      ]
     },
     "execution_count": 19,
     "metadata": {},
     "output_type": "execute_result"
    }
   ],
   "source": [
    "def rfm_func(x):\n",
    "    level = x.apply(lambda x:'1' if x>=0 else '0')\n",
    "    label = level.Recency + level.Frequency + level.Monetary\n",
    "    dict = {\n",
    "            '011':'A',\n",
    "            '111':'B',\n",
    "            '101':'C',\n",
    "            '001':'D',\n",
    "            '110':'E',\n",
    "            '010':'F',\n",
    "            '100':'G',\n",
    "            '000':'H'\n",
    "            }\n",
    "\n",
    "    result = dict[label]\n",
    "    return result\n",
    "\n",
    "rfm['label'] =rfm[['Recency','Frequency','Monetary']].apply(lambda x:x-x.mean()).apply(rfm_func,axis=1)\n",
    "rfm.head()"
   ]
  },
  {
   "cell_type": "code",
   "execution_count": 20,
   "id": "35e50688",
   "metadata": {
    "execution": {
     "iopub.execute_input": "2023-12-10T14:57:18.626114Z",
     "iopub.status.busy": "2023-12-10T14:57:18.624645Z",
     "iopub.status.idle": "2023-12-10T14:57:18.895660Z",
     "shell.execute_reply": "2023-12-10T14:57:18.894293Z"
    },
    "papermill": {
     "duration": 0.294151,
     "end_time": "2023-12-10T14:57:18.898769",
     "exception": false,
     "start_time": "2023-12-10T14:57:18.604618",
     "status": "completed"
    },
    "tags": []
   },
   "outputs": [
    {
     "data": {
      "image/png": "[encoded data removed]",
      "text/plain": [
       "<Figure size 1500x800 with 1 Axes>"
      ]
     },
     "metadata": {},
     "output_type": "display_data"
    }
   ],
   "source": [
    "rfm.groupby('label').size().sort_values(ascending=False).plot.pie(autopct='%1.1f%%')\n",
    "plt.title(\"Distribution of Different Levels of Customers\")\n",
    "plt.show()"
   ]
  },
  {
   "cell_type": "markdown",
   "id": "7bfb7e59",
   "metadata": {
    "papermill": {
     "duration": 0.019548,
     "end_time": "2023-12-10T14:57:18.937646",
     "exception": false,
     "start_time": "2023-12-10T14:57:18.918098",
     "status": "completed"
    },
    "tags": []
   },
   "source": [
    "A refers to the most important value customers, accounting for only 10.3%"
   ]
  },
  {
   "cell_type": "code",
   "execution_count": 21,
   "id": "81e1b9f1",
   "metadata": {
    "execution": {
     "iopub.execute_input": "2023-12-10T14:57:18.980381Z",
     "iopub.status.busy": "2023-12-10T14:57:18.979397Z",
     "iopub.status.idle": "2023-12-10T14:57:19.544604Z",
     "shell.execute_reply": "2023-12-10T14:57:19.543558Z"
    },
    "papermill": {
     "duration": 0.590242,
     "end_time": "2023-12-10T14:57:19.547399",
     "exception": false,
     "start_time": "2023-12-10T14:57:18.957157",
     "status": "completed"
    },
    "tags": []
   },
   "outputs": [
    {
     "data": {
      "image/png": "[encoded data removed]",
      "text/plain": [
       "<Figure size 1500x800 with 2 Axes>"
      ]
     },
     "metadata": {},
     "output_type": "display_data"
    }
   ],
   "source": [
    "rfm_label =  rfm.groupby('label').sum().reset_index(drop=False)\n",
    "\n",
    "plt.subplot(121)\n",
    "plt.title('Order Number of Cumstomers')\n",
    "sns.barplot(x='label',y='Frequency',data=rfm_label.sort_values(by='Frequency',ascending=False))\n",
    "\n",
    "plt.subplot(122)\n",
    "plt.title('Amount of sales of Cumstomers')\n",
    "sns.barplot(x='label',y='Monetary',data=rfm_label.sort_values(by='Monetary',ascending=False))\n",
    "plt.show()"
   ]
  },
  {
   "cell_type": "markdown",
   "id": "3151263f",
   "metadata": {
    "papermill": {
     "duration": 0.019779,
     "end_time": "2023-12-10T14:57:19.588344",
     "exception": false,
     "start_time": "2023-12-10T14:57:19.568565",
     "status": "completed"
    },
    "tags": []
   },
   "source": [
    "# 5. Indices (Repurchase Rates and Retention Rates)"
   ]
  },
  {
   "cell_type": "code",
   "execution_count": 22,
   "id": "b58a6518",
   "metadata": {
    "execution": {
     "iopub.execute_input": "2023-12-10T14:57:19.631824Z",
     "iopub.status.busy": "2023-12-10T14:57:19.630843Z",
     "iopub.status.idle": "2023-12-10T14:57:19.672255Z",
     "shell.execute_reply": "2023-12-10T14:57:19.670974Z"
    },
    "papermill": {
     "duration": 0.066548,
     "end_time": "2023-12-10T14:57:19.675000",
     "exception": false,
     "start_time": "2023-12-10T14:57:19.608452",
     "status": "completed"
    },
    "tags": []
   },
   "outputs": [
    {
     "data": {
      "text/html": [
       "<div>\n",
       "<style scoped>\n",
       "    .dataframe tbody tr th:only-of-type {\n",
       "        vertical-align: middle;\n",
       "    }\n",
       "\n",
       "    .dataframe tbody tr th {\n",
       "        vertical-align: top;\n",
       "    }\n",
       "\n",
       "    .dataframe thead th {\n",
       "        text-align: right;\n",
       "    }\n",
       "</style>\n",
       "<table border=\"1\" class=\"dataframe\">\n",
       "  <thead>\n",
       "    <tr style=\"text-align: right;\">\n",
       "      <th>Months</th>\n",
       "      <th>2021-06-01</th>\n",
       "      <th>2021-07-01</th>\n",
       "      <th>2021-08-01</th>\n",
       "      <th>2021-09-01</th>\n",
       "      <th>2021-10-01</th>\n",
       "      <th>2021-11-01</th>\n",
       "      <th>2021-12-01</th>\n",
       "      <th>2022-01-01</th>\n",
       "      <th>2022-02-01</th>\n",
       "      <th>2022-03-01</th>\n",
       "    </tr>\n",
       "    <tr>\n",
       "      <th>CUSTOMER</th>\n",
       "      <th></th>\n",
       "      <th></th>\n",
       "      <th></th>\n",
       "      <th></th>\n",
       "      <th></th>\n",
       "      <th></th>\n",
       "      <th></th>\n",
       "      <th></th>\n",
       "      <th></th>\n",
       "      <th></th>\n",
       "    </tr>\n",
       "  </thead>\n",
       "  <tbody>\n",
       "    <tr>\n",
       "      <th>AANCHOL</th>\n",
       "      <td>0.000</td>\n",
       "      <td>4.000</td>\n",
       "      <td>0.000</td>\n",
       "      <td>0.000</td>\n",
       "      <td>0.000</td>\n",
       "      <td>0.000</td>\n",
       "      <td>0.000</td>\n",
       "      <td>0.000</td>\n",
       "      <td>0.000</td>\n",
       "      <td>0.000</td>\n",
       "    </tr>\n",
       "    <tr>\n",
       "      <th>ABBI COLLECTION</th>\n",
       "      <td>0.000</td>\n",
       "      <td>0.000</td>\n",
       "      <td>0.000</td>\n",
       "      <td>0.000</td>\n",
       "      <td>0.000</td>\n",
       "      <td>0.000</td>\n",
       "      <td>0.000</td>\n",
       "      <td>0.000</td>\n",
       "      <td>70.000</td>\n",
       "      <td>0.000</td>\n",
       "    </tr>\n",
       "    <tr>\n",
       "      <th>ABDUL RAHMAN(SINGAPORE)</th>\n",
       "      <td>0.000</td>\n",
       "      <td>0.000</td>\n",
       "      <td>0.000</td>\n",
       "      <td>0.000</td>\n",
       "      <td>0.000</td>\n",
       "      <td>72.000</td>\n",
       "      <td>24.000</td>\n",
       "      <td>0.000</td>\n",
       "      <td>0.000</td>\n",
       "      <td>0.000</td>\n",
       "    </tr>\n",
       "    <tr>\n",
       "      <th>ADDVEN SOLUTIONS PRIVATE LIMITED</th>\n",
       "      <td>0.000</td>\n",
       "      <td>0.000</td>\n",
       "      <td>0.000</td>\n",
       "      <td>0.000</td>\n",
       "      <td>46.000</td>\n",
       "      <td>0.000</td>\n",
       "      <td>0.000</td>\n",
       "      <td>0.000</td>\n",
       "      <td>0.000</td>\n",
       "      <td>0.000</td>\n",
       "    </tr>\n",
       "    <tr>\n",
       "      <th>AKASH KAUSHAL</th>\n",
       "      <td>0.000</td>\n",
       "      <td>0.000</td>\n",
       "      <td>0.000</td>\n",
       "      <td>10.000</td>\n",
       "      <td>0.000</td>\n",
       "      <td>0.000</td>\n",
       "      <td>0.000</td>\n",
       "      <td>0.000</td>\n",
       "      <td>0.000</td>\n",
       "      <td>0.000</td>\n",
       "    </tr>\n",
       "  </tbody>\n",
       "</table>\n",
       "</div>"
      ],
      "text/plain": [
       "Months                            2021-06-01  2021-07-01  2021-08-01  \\\n",
       "CUSTOMER                                                               \n",
       "AANCHOL                                0.000       4.000       0.000   \n",
       "ABBI COLLECTION                        0.000       0.000       0.000   \n",
       "ABDUL RAHMAN(SINGAPORE)                0.000       0.000       0.000   \n",
       "ADDVEN SOLUTIONS PRIVATE LIMITED       0.000       0.000       0.000   \n",
       "AKASH KAUSHAL                          0.000       0.000       0.000   \n",
       "\n",
       "Months                            2021-09-01  2021-10-01  2021-11-01  \\\n",
       "CUSTOMER                                                               \n",
       "AANCHOL                                0.000       0.000       0.000   \n",
       "ABBI COLLECTION                        0.000       0.000       0.000   \n",
       "ABDUL RAHMAN(SINGAPORE)                0.000       0.000      72.000   \n",
       "ADDVEN SOLUTIONS PRIVATE LIMITED       0.000      46.000       0.000   \n",
       "AKASH KAUSHAL                         10.000       0.000       0.000   \n",
       "\n",
       "Months                            2021-12-01  2022-01-01  2022-02-01  \\\n",
       "CUSTOMER                                                               \n",
       "AANCHOL                                0.000       0.000       0.000   \n",
       "ABBI COLLECTION                        0.000       0.000      70.000   \n",
       "ABDUL RAHMAN(SINGAPORE)               24.000       0.000       0.000   \n",
       "ADDVEN SOLUTIONS PRIVATE LIMITED       0.000       0.000       0.000   \n",
       "AKASH KAUSHAL                          0.000       0.000       0.000   \n",
       "\n",
       "Months                            2022-03-01  \n",
       "CUSTOMER                                      \n",
       "AANCHOL                                0.000  \n",
       "ABBI COLLECTION                        0.000  \n",
       "ABDUL RAHMAN(SINGAPORE)                0.000  \n",
       "ADDVEN SOLUTIONS PRIVATE LIMITED       0.000  \n",
       "AKASH KAUSHAL                          0.000  "
      ]
     },
     "execution_count": 22,
     "metadata": {},
     "output_type": "execute_result"
    }
   ],
   "source": [
    "cumstomer = df.pivot_table(index = 'CUSTOMER',\n",
    "                           columns = 'Months',\n",
    "                           values ='DATE',\n",
    "                           aggfunc ='count' ).fillna(0)\n",
    "\n",
    "cumstomer.head()"
   ]
  },
  {
   "cell_type": "code",
   "execution_count": 23,
   "id": "a920f4e0",
   "metadata": {
    "execution": {
     "iopub.execute_input": "2023-12-10T14:57:19.718251Z",
     "iopub.status.busy": "2023-12-10T14:57:19.717719Z",
     "iopub.status.idle": "2023-12-10T14:57:19.735465Z",
     "shell.execute_reply": "2023-12-10T14:57:19.734224Z"
    },
    "papermill": {
     "duration": 0.042832,
     "end_time": "2023-12-10T14:57:19.738218",
     "exception": false,
     "start_time": "2023-12-10T14:57:19.695386",
     "status": "completed"
    },
    "tags": []
   },
   "outputs": [
    {
     "data": {
      "text/plain": [
       "Months\n",
       "2021-06-01   0.112\n",
       "2021-07-01   0.112\n",
       "2021-08-01   0.136\n",
       "2021-09-01   0.208\n",
       "2021-10-01   0.208\n",
       "dtype: float64"
      ]
     },
     "execution_count": 23,
     "metadata": {},
     "output_type": "execute_result"
    }
   ],
   "source": [
    "repurchase =cumstomer.applymap(lambda x: 1 if x>1 else 0)\n",
    "repurchase_rate = repurchase.apply(lambda x: x.sum()/x.count(),axis=0)\n",
    "repurchase_rate.head()"
   ]
  },
  {
   "cell_type": "code",
   "execution_count": 24,
   "id": "3735ee05",
   "metadata": {
    "execution": {
     "iopub.execute_input": "2023-12-10T14:57:19.781630Z",
     "iopub.status.busy": "2023-12-10T14:57:19.781101Z",
     "iopub.status.idle": "2023-12-10T14:57:20.204947Z",
     "shell.execute_reply": "2023-12-10T14:57:20.203955Z"
    },
    "papermill": {
     "duration": 0.448561,
     "end_time": "2023-12-10T14:57:20.207342",
     "exception": false,
     "start_time": "2023-12-10T14:57:19.758781",
     "status": "completed"
    },
    "tags": []
   },
   "outputs": [
    {
     "data": {
      "text/plain": [
       "Text(0, 0.5, 'Rate')"
      ]
     },
     "execution_count": 24,
     "metadata": {},
     "output_type": "execute_result"
    },
    {
     "data": {
      "image/png": "[encoded data removed]",
      "text/plain": [
       "<Figure size 1500x800 with 1 Axes>"
      ]
     },
     "metadata": {},
     "output_type": "display_data"
    }
   ],
   "source": [
    "repurchase_rate.plot()\n",
    "plt.title('Repurchase Rates')\n",
    "plt.xlabel('Month')\n",
    "plt.ylabel('Rate')"
   ]
  },
  {
   "cell_type": "code",
   "execution_count": 25,
   "id": "109b003d",
   "metadata": {
    "execution": {
     "iopub.execute_input": "2023-12-10T14:57:20.258211Z",
     "iopub.status.busy": "2023-12-10T14:57:20.257344Z",
     "iopub.status.idle": "2023-12-10T14:57:20.495739Z",
     "shell.execute_reply": "2023-12-10T14:57:20.494334Z"
    },
    "papermill": {
     "duration": 0.268704,
     "end_time": "2023-12-10T14:57:20.498521",
     "exception": false,
     "start_time": "2023-12-10T14:57:20.229817",
     "status": "completed"
    },
    "tags": []
   },
   "outputs": [
    {
     "data": {
      "text/html": [
       "<div>\n",
       "<style scoped>\n",
       "    .dataframe tbody tr th:only-of-type {\n",
       "        vertical-align: middle;\n",
       "    }\n",
       "\n",
       "    .dataframe tbody tr th {\n",
       "        vertical-align: top;\n",
       "    }\n",
       "\n",
       "    .dataframe thead th {\n",
       "        text-align: right;\n",
       "    }\n",
       "</style>\n",
       "<table border=\"1\" class=\"dataframe\">\n",
       "  <thead>\n",
       "    <tr style=\"text-align: right;\">\n",
       "      <th></th>\n",
       "      <th>index</th>\n",
       "      <th>DATE</th>\n",
       "      <th>Months</th>\n",
       "      <th>CUSTOMER</th>\n",
       "      <th>Style</th>\n",
       "      <th>SKU</th>\n",
       "      <th>Size</th>\n",
       "      <th>PCS</th>\n",
       "      <th>RATE</th>\n",
       "      <th>GROSS AMT</th>\n",
       "      <th>Day</th>\n",
       "      <th>min</th>\n",
       "      <th>order_dt_diff</th>\n",
       "    </tr>\n",
       "  </thead>\n",
       "  <tbody>\n",
       "    <tr>\n",
       "      <th>0</th>\n",
       "      <td>0</td>\n",
       "      <td>2021-06-05</td>\n",
       "      <td>2021-06-01</td>\n",
       "      <td>REVATHY LOGANATHAN</td>\n",
       "      <td>MEN5004</td>\n",
       "      <td>MEN5004-KR-L</td>\n",
       "      <td>L</td>\n",
       "      <td>1.000</td>\n",
       "      <td>616.56</td>\n",
       "      <td>617.000</td>\n",
       "      <td>2021-06-05</td>\n",
       "      <td>2021-06-05</td>\n",
       "      <td>0.000</td>\n",
       "    </tr>\n",
       "    <tr>\n",
       "      <th>1</th>\n",
       "      <td>1</td>\n",
       "      <td>2021-06-05</td>\n",
       "      <td>2021-06-01</td>\n",
       "      <td>REVATHY LOGANATHAN</td>\n",
       "      <td>MEN5004</td>\n",
       "      <td>MEN5004-KR-XL</td>\n",
       "      <td>XL</td>\n",
       "      <td>1.000</td>\n",
       "      <td>616.56</td>\n",
       "      <td>617.000</td>\n",
       "      <td>2021-06-05</td>\n",
       "      <td>2021-06-05</td>\n",
       "      <td>0.000</td>\n",
       "    </tr>\n",
       "    <tr>\n",
       "      <th>2</th>\n",
       "      <td>2</td>\n",
       "      <td>2021-06-05</td>\n",
       "      <td>2021-06-01</td>\n",
       "      <td>REVATHY LOGANATHAN</td>\n",
       "      <td>MEN5004</td>\n",
       "      <td>MEN5004-KR-XXL</td>\n",
       "      <td>XXL</td>\n",
       "      <td>1.000</td>\n",
       "      <td>616.56</td>\n",
       "      <td>617.000</td>\n",
       "      <td>2021-06-05</td>\n",
       "      <td>2021-06-05</td>\n",
       "      <td>0.000</td>\n",
       "    </tr>\n",
       "    <tr>\n",
       "      <th>3</th>\n",
       "      <td>3</td>\n",
       "      <td>2021-06-05</td>\n",
       "      <td>2021-06-01</td>\n",
       "      <td>REVATHY LOGANATHAN</td>\n",
       "      <td>MEN5009</td>\n",
       "      <td>MEN5009-KR-L</td>\n",
       "      <td>L</td>\n",
       "      <td>1.000</td>\n",
       "      <td>616.56</td>\n",
       "      <td>617.000</td>\n",
       "      <td>2021-06-05</td>\n",
       "      <td>2021-06-05</td>\n",
       "      <td>0.000</td>\n",
       "    </tr>\n",
       "    <tr>\n",
       "      <th>4</th>\n",
       "      <td>4</td>\n",
       "      <td>2021-06-05</td>\n",
       "      <td>2021-06-01</td>\n",
       "      <td>REVATHY LOGANATHAN</td>\n",
       "      <td>MEN5011</td>\n",
       "      <td>MEN5011-KR-L</td>\n",
       "      <td>L</td>\n",
       "      <td>1.000</td>\n",
       "      <td>616.56</td>\n",
       "      <td>617.000</td>\n",
       "      <td>2021-06-05</td>\n",
       "      <td>2021-06-05</td>\n",
       "      <td>0.000</td>\n",
       "    </tr>\n",
       "  </tbody>\n",
       "</table>\n",
       "</div>"
      ],
      "text/plain": [
       "   index       DATE     Months            CUSTOMER    Style             SKU  \\\n",
       "0      0 2021-06-05 2021-06-01  REVATHY LOGANATHAN  MEN5004    MEN5004-KR-L   \n",
       "1      1 2021-06-05 2021-06-01  REVATHY LOGANATHAN  MEN5004   MEN5004-KR-XL   \n",
       "2      2 2021-06-05 2021-06-01  REVATHY LOGANATHAN  MEN5004  MEN5004-KR-XXL   \n",
       "3      3 2021-06-05 2021-06-01  REVATHY LOGANATHAN  MEN5009    MEN5009-KR-L   \n",
       "4      4 2021-06-05 2021-06-01  REVATHY LOGANATHAN  MEN5011    MEN5011-KR-L   \n",
       "\n",
       "  Size   PCS    RATE  GROSS AMT        Day        min  order_dt_diff  \n",
       "0    L 1.000  616.56    617.000 2021-06-05 2021-06-05          0.000  \n",
       "1   XL 1.000  616.56    617.000 2021-06-05 2021-06-05          0.000  \n",
       "2  XXL 1.000  616.56    617.000 2021-06-05 2021-06-05          0.000  \n",
       "3    L 1.000  616.56    617.000 2021-06-05 2021-06-05          0.000  \n",
       "4    L 1.000  616.56    617.000 2021-06-05 2021-06-05          0.000  "
      ]
     },
     "execution_count": 25,
     "metadata": {},
     "output_type": "execute_result"
    }
   ],
   "source": [
    "customer_life = df.groupby('CUSTOMER').DATE.agg(['min','max'])\n",
    "df_copy = df.copy()\n",
    " \n",
    "customer_retention = pd.merge(left=df_copy,\n",
    "                          right = customer_life['min'].reset_index(),\n",
    "                          how = 'inner',\n",
    "                          on = 'CUSTOMER'\n",
    "                         )\n",
    " \n",
    "customer_retention['order_dt_diff'] = customer_retention['DATE']-customer_retention['min']\n",
    " \n",
    "customer_retention['order_dt_diff'] = customer_retention.order_dt_diff.apply(lambda x:x/np.timedelta64(1,'D'))\n",
    "customer_retention.head()"
   ]
  },
  {
   "cell_type": "code",
   "execution_count": 26,
   "id": "978ce5f6",
   "metadata": {
    "execution": {
     "iopub.execute_input": "2023-12-10T14:57:20.545205Z",
     "iopub.status.busy": "2023-12-10T14:57:20.544235Z",
     "iopub.status.idle": "2023-12-10T14:57:20.576231Z",
     "shell.execute_reply": "2023-12-10T14:57:20.574829Z"
    },
    "papermill": {
     "duration": 0.059102,
     "end_time": "2023-12-10T14:57:20.579606",
     "exception": false,
     "start_time": "2023-12-10T14:57:20.520504",
     "status": "completed"
    },
    "tags": []
   },
   "outputs": [],
   "source": [
    "bin = [0,30,60,90,120,150,180,360]\n",
    " \n",
    "customer_retention['dt_diff_bin'] = pd.cut(customer_retention.order_dt_diff,bins=bin)\n",
    "pivoted_retention = customer_retention.groupby(['CUSTOMER','dt_diff_bin'])['GROSS AMT'].sum().unstack()\n",
    "pivoted_retention_trans = pivoted_retention.fillna(0).applymap(lambda x:1 if x>0 else 0)"
   ]
  },
  {
   "cell_type": "code",
   "execution_count": 27,
   "id": "af801062",
   "metadata": {
    "execution": {
     "iopub.execute_input": "2023-12-10T14:57:20.626114Z",
     "iopub.status.busy": "2023-12-10T14:57:20.625261Z",
     "iopub.status.idle": "2023-12-10T14:57:20.636820Z",
     "shell.execute_reply": "2023-12-10T14:57:20.635790Z"
    },
    "papermill": {
     "duration": 0.037763,
     "end_time": "2023-12-10T14:57:20.639413",
     "exception": false,
     "start_time": "2023-12-10T14:57:20.601650",
     "status": "completed"
    },
    "tags": []
   },
   "outputs": [
    {
     "data": {
      "text/plain": [
       "dt_diff_bin\n",
       "(0, 30]      11566.419\n",
       "(30, 60]     10274.618\n",
       "(60, 90]      6177.441\n",
       "(90, 120]     2614.816\n",
       "(120, 150]    5717.132\n",
       "(150, 180]     756.022\n",
       "(180, 360]    7972.191\n",
       "dtype: float64"
      ]
     },
     "execution_count": 27,
     "metadata": {},
     "output_type": "execute_result"
    }
   ],
   "source": [
    "pivoted_retention.mean()"
   ]
  },
  {
   "cell_type": "code",
   "execution_count": 28,
   "id": "0a51c1f3",
   "metadata": {
    "execution": {
     "iopub.execute_input": "2023-12-10T14:57:20.685795Z",
     "iopub.status.busy": "2023-12-10T14:57:20.685270Z",
     "iopub.status.idle": "2023-12-10T14:57:21.123884Z",
     "shell.execute_reply": "2023-12-10T14:57:21.122586Z"
    },
    "papermill": {
     "duration": 0.465583,
     "end_time": "2023-12-10T14:57:21.127102",
     "exception": false,
     "start_time": "2023-12-10T14:57:20.661519",
     "status": "completed"
    },
    "tags": []
   },
   "outputs": [
    {
     "data": {
      "text/plain": [
       "Text(0.5, 1.0, 'Retention Rate')"
      ]
     },
     "execution_count": 28,
     "metadata": {},
     "output_type": "execute_result"
    },
    {
     "data": {
      "image/png": "[encoded data removed]",
      "text/plain": [
       "<Figure size 1500x800 with 1 Axes>"
      ]
     },
     "metadata": {},
     "output_type": "display_data"
    }
   ],
   "source": [
    "retention_rate = pivoted_retention_trans.sum()/pivoted_retention_trans.count()\n",
    "retention_rate.plot.bar()\n",
    "plt.xlabel('Retention Time')\n",
    "plt.ylabel('Rate')\n",
    "plt.title('Retention Rate')"
   ]
  }
 ],
 "metadata": {
  "kaggle": {
   "accelerator": "none",
   "dataSources": [
    {
     "datasetId": 2699295,
     "sourceId": 4642886,
     "sourceType": "datasetVersion"
    }
   ],
   "dockerImageVersionId": 30558,
   "isGpuEnabled": false,
   "isInternetEnabled": true,
   "language": "python",
   "sourceType": "notebook"
  },
  "kernelspec": {
   "display_name": "Python 3",
   "language": "python",
   "name": "python3"
  },
  "language_info": {
   "codemirror_mode": {
    "name": "ipython",
    "version": 3
   },
   "file_extension": ".py",
   "mimetype": "text/x-python",
   "name": "python",
   "nbconvert_exporter": "python",
   "pygments_lexer": "ipython3",
   "version": "3.10.12"
  },
  "papermill": {
   "default_parameters": {},
   "duration": 15.02572,
   "end_time": "2023-12-10T14:57:22.078232",
   "environment_variables": {},
   "exception": null,
   "input_path": "__notebook__.ipynb",
   "output_path": "__notebook__.ipynb",
   "parameters": {},
   "start_time": "2023-12-10T14:57:07.052512",
   "version": "2.4.0"
  }
 },
 "nbformat": 4,
 "nbformat_minor": 5
}
